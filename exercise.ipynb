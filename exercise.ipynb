{
 "cells": [
  {
   "cell_type": "markdown",
   "metadata": {},
   "source": [
    "# Python 예제 확인"
   ]
  },
  {
   "cell_type": "code",
   "execution_count": 1,
   "metadata": {},
   "outputs": [
    {
     "name": "stdout",
     "output_type": "stream",
     "text": [
      "hello world\n"
     ]
    }
   ],
   "source": [
    "print('hello world')"
   ]
  },
  {
   "cell_type": "code",
   "execution_count": 1,
   "metadata": {},
   "outputs": [
    {
     "data": {
      "text/plain": [
       "'\\n주석 사용 예\\n이것은 여러줄 주석입니다\\n'"
      ]
     },
     "execution_count": 1,
     "metadata": {},
     "output_type": "execute_result"
    }
   ],
   "source": [
    "'''\n",
    "주석 사용 예\n",
    "이것은 여러줄 주석입니다\n",
    "'''\n",
    "\n",
    "# 한 줄 주석은 # 기호를 통해서 "
   ]
  },
  {
   "cell_type": "code",
   "execution_count": 2,
   "metadata": {},
   "outputs": [
    {
     "name": "stdout",
     "output_type": "stream",
     "text": [
      "5\n",
      "-1\n",
      "6\n",
      "0.6666666666666666\n",
      "2\n"
     ]
    }
   ],
   "source": [
    "# 정수형\n",
    "a = 2\n",
    "b = 3\n",
    "\n",
    "print(a + b)\n",
    "print(a - b)\n",
    "print(a * b)\n",
    "print(a / b)\n",
    "print(a % b)"
   ]
  },
  {
   "cell_type": "code",
   "execution_count": 3,
   "metadata": {},
   "outputs": [
    {
     "name": "stdout",
     "output_type": "stream",
     "text": [
      "8.5\n",
      "1.5\n",
      "17.5\n",
      "1.4285714285714286\n",
      "1.5\n"
     ]
    }
   ],
   "source": [
    "# 부동소수형\n",
    "a = 5.0\n",
    "b = 3.5\n",
    "\n",
    "print(a + b)\n",
    "print(a - b)\n",
    "print(a * b)\n",
    "print(a / b)\n",
    "print(a % b)"
   ]
  },
  {
   "cell_type": "code",
   "execution_count": 4,
   "metadata": {},
   "outputs": [
    {
     "name": "stdout",
     "output_type": "stream",
     "text": [
      "<class 'str'>\n",
      "helloworld\n",
      "hellohellohello\n"
     ]
    }
   ],
   "source": [
    "# 문자열\n",
    "a = \"hello\"\n",
    "b = \"world\"\n",
    "\n",
    "# 문자열 타입 출력\n",
    "print(type(a))\n",
    "\n",
    "# 문자열 연산\n",
    "print(a + b)\n",
    "print(a*3)"
   ]
  },
  {
   "cell_type": "code",
   "execution_count": 5,
   "metadata": {},
   "outputs": [
    {
     "name": "stdout",
     "output_type": "stream",
     "text": [
      "[1, 2, 3, 4]\n",
      "1\n",
      "[2, 3, 4]\n",
      "[1, 2, 3, 8]\n"
     ]
    }
   ],
   "source": [
    "# 리스트\n",
    "a = [1, 2, 3, 4]\n",
    "\n",
    "# 리스트 출력\n",
    "print(a)\n",
    "\n",
    "# 첫번째 값 출력\n",
    "print(a[0])\n",
    "\n",
    "# 두번째부터 마지막 값까지 출력\n",
    "print(a[1:])\n",
    "\n",
    "# 리스트 값 변경 가능\n",
    "a[-1] = 8\n",
    "\n",
    "print(a)"
   ]
  },
  {
   "cell_type": "code",
   "execution_count": 6,
   "metadata": {},
   "outputs": [
    {
     "name": "stdout",
     "output_type": "stream",
     "text": [
      "P\n",
      "n\n",
      "n\n"
     ]
    },
    {
     "ename": "TypeError",
     "evalue": "'tuple' object does not support item assignment",
     "output_type": "error",
     "traceback": [
      "\u001b[1;31m---------------------------------------------------------------------------\u001b[0m",
      "\u001b[1;31mTypeError\u001b[0m                                 Traceback (most recent call last)",
      "\u001b[1;32m<ipython-input-6-7f5def2272d3>\u001b[0m in \u001b[0;36m<module>\u001b[1;34m()\u001b[0m\n\u001b[0;32m     10\u001b[0m \u001b[1;33m\u001b[0m\u001b[0m\n\u001b[0;32m     11\u001b[0m \u001b[1;31m# 튜플의 값 변경은 안됨\u001b[0m\u001b[1;33m\u001b[0m\u001b[1;33m\u001b[0m\u001b[0m\n\u001b[1;32m---> 12\u001b[1;33m \u001b[0ma\u001b[0m\u001b[1;33m[\u001b[0m\u001b[1;36m0\u001b[0m\u001b[1;33m]\u001b[0m \u001b[1;33m=\u001b[0m \u001b[1;34m'C'\u001b[0m\u001b[1;33m\u001b[0m\u001b[0m\n\u001b[0m",
      "\u001b[1;31mTypeError\u001b[0m: 'tuple' object does not support item assignment"
     ]
    }
   ],
   "source": [
    "# 튜플 \n",
    "a = ('P', 'y', 't', 'h', 'o', 'n')\n",
    "\n",
    "# 튜플의 첫번째 값 출력\n",
    "print(a[0])\n",
    "\n",
    "# 튜플의 마지막 값 출력\n",
    "print(a[5])\n",
    "print(a[-1])\n",
    "\n",
    "# 튜플의 값 변경은 안됨 \n",
    "a[0] = 'C'"
   ]
  },
  {
   "cell_type": "code",
   "execution_count": 7,
   "metadata": {},
   "outputs": [
    {
     "name": "stdout",
     "output_type": "stream",
     "text": [
      "2\n",
      "3\n",
      "Python\n"
     ]
    }
   ],
   "source": [
    "# Dictionary\n",
    "a = {'a':2, 'b':3, 'c':'Python'}\n",
    "print(a['a'])\n",
    "print(a['b'])\n",
    "print(a['c'])"
   ]
  },
  {
   "cell_type": "code",
   "execution_count": 8,
   "metadata": {},
   "outputs": [
    {
     "name": "stdout",
     "output_type": "stream",
     "text": [
      "True\n",
      "a는 7이상 12미만이다\n"
     ]
    }
   ],
   "source": [
    "# 조건문\n",
    "\n",
    "a = 5\n",
    "\n",
    "if a == 5:\n",
    "    print(\"True\")\n",
    "else:\n",
    "    print(\"False\")\n",
    "    \n",
    "a = 5\n",
    "b = 3\n",
    "\n",
    "a = 11\n",
    "\n",
    "if a > 3 and a < 7:\n",
    "    print(\"a는 3초과 7미만이다\")\n",
    "elif a >= 7 and a < 12:\n",
    "    print(\"a는 7이상 12미만이다\")\n",
    "else:\n",
    "    print(\"a값은 그외의 값이다\")"
   ]
  },
  {
   "cell_type": "code",
   "execution_count": 9,
   "metadata": {},
   "outputs": [
    {
     "name": "stdout",
     "output_type": "stream",
     "text": [
      "55\n"
     ]
    }
   ],
   "source": [
    "# 반복문 (for)\n",
    "# 1부터 10까지의 합 구하기\n",
    "sum = 0\n",
    "\n",
    "for i in range(1, 11):\n",
    "    sum += i\n",
    "\n",
    "print(sum)"
   ]
  },
  {
   "cell_type": "code",
   "execution_count": 10,
   "metadata": {},
   "outputs": [
    {
     "name": "stdout",
     "output_type": "stream",
     "text": [
      "55\n"
     ]
    }
   ],
   "source": [
    "# 반복문 (while)\n",
    "\n",
    "i = 1\n",
    "sum = 0\n",
    "\n",
    "while i < 11:\n",
    "    sum += i\n",
    "    i += 1\n",
    "    \n",
    "print(sum)"
   ]
  },
  {
   "cell_type": "code",
   "execution_count": 11,
   "metadata": {},
   "outputs": [
    {
     "name": "stdout",
     "output_type": "stream",
     "text": [
      "김선우\n"
     ]
    }
   ],
   "source": [
    "# 입력받기\n",
    "# Python 2.x에서는 raw_input 함수를 사용하고 Python 3.x에서는 input 함수를 사용\n",
    "a = input('이름을 입력하시오 : ')\n",
    "\n",
    "print(a)"
   ]
  },
  {
   "cell_type": "code",
   "execution_count": null,
   "metadata": {},
   "outputs": [],
   "source": []
  }
 ],
 "metadata": {
  "kernelspec": {
   "display_name": "Python 3",
   "language": "python",
   "name": "python3"
  },
  "language_info": {
   "codemirror_mode": {
    "name": "ipython",
    "version": 3
   },
   "file_extension": ".py",
   "mimetype": "text/x-python",
   "name": "python",
   "nbconvert_exporter": "python",
   "pygments_lexer": "ipython3",
   "version": "3.5.4"
  }
 },
 "nbformat": 4,
 "nbformat_minor": 2
}
